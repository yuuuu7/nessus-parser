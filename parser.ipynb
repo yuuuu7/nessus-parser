{
 "cells": [
  {
   "cell_type": "markdown",
   "metadata": {},
   "source": [
    "## Note that this parser was written to be compatible with Raw Excel/CSV Nessus output only."
   ]
  },
  {
   "cell_type": "code",
   "execution_count": 13,
   "metadata": {},
   "outputs": [
    {
     "name": "stdout",
     "output_type": "stream",
     "text": [
      "\n",
      "Loaded DataFrames: $dict_keys(['Linux_df_1', 'Linux_df_2', 'Linux_df_3', 'Linux_df_4', 'Linux_df_5', 'Linux_df_6', 'Misc_df_1', 'Misc_df_2', 'Misc_df_3', 'Misc_df_4', 'Windows_df_1', 'Windows_df_2', 'Windows_df_3'])\n"
     ]
    }
   ],
   "source": [
    "import os\n",
    "import pandas as pd\n",
    "import openpyxl\n",
    "\n",
    "def load_csvs_from_folders(root_folder):\n",
    "\n",
    "    dataframes = {}\n",
    "\n",
    "    subfolders = [\n",
    "        folder for folder in os.listdir(root_folder) \n",
    "        if os.path.isdir(os.path.join(root_folder, folder))\n",
    "    ]\n",
    "\n",
    "    for subfolder in subfolders:\n",
    "        subfolder_path = os.path.join(root_folder, subfolder)\n",
    "\n",
    "        file_names = [\n",
    "            f for f in os.listdir(subfolder_path) \n",
    "            if os.path.isfile(os.path.join(subfolder_path, f))\n",
    "        ]\n",
    "\n",
    "        for x, file_name in enumerate(file_names, start=1):\n",
    "            file_path = os.path.join(subfolder_path, file_name)\n",
    "            try:\n",
    "                dataframes[f'{subfolder}_df_{x}'] = pd.read_csv(file_path)\n",
    "            except Exception as e:\n",
    "                print(f\"Failed to load {file_name} in {subfolder}: {e}\")\n",
    "\n",
    "    return dataframes\n",
    "\n",
    "def ensure_output_folder():\n",
    "    output_folder = 'Output'\n",
    "    if not os.path.exists(output_folder):\n",
    "        os.makedirs(output_folder)\n",
    "    return output_folder\n",
    "\n",
    "root_folder = './ALLHOSTS - Copy/'  ### replace with your root folder path\n",
    "\n",
    "dataframes = load_csvs_from_folders(root_folder)\n",
    "\n",
    "print(f\"\\nLoaded DataFrames: ${dataframes.keys()}\")"
   ]
  },
  {
   "cell_type": "code",
   "execution_count": 14,
   "metadata": {},
   "outputs": [
    {
     "name": "stdout",
     "output_type": "stream",
     "text": [
      "\n",
      "Results saved to 'Output\\output_results_unique.xlsx'\n"
     ]
    }
   ],
   "source": [
    "def process_dataframes(dataframes, output_file):\n",
    "    results = []\n",
    "    output_folder = ensure_output_folder()\n",
    "    output_file = os.path.join(output_folder, output_file)\n",
    "\n",
    "    for df_name, df in dataframes.items():\n",
    "        if 'Risk' in df.columns:\n",
    "            dataframes[df_name] = df[df['Risk'].notna()]\n",
    "        else:\n",
    "            print(f\"'{df_name}' does not have a 'Risk' column, skipping...\")\n",
    "\n",
    "    for df_name, df in dataframes.items():\n",
    "        required_columns = {'Name', 'Plugin Output', 'Solution', 'Host', 'Port', 'Risk', 'See Also', 'CVE', 'Description'}\n",
    "        if required_columns.issubset(df.columns):\n",
    "            unique_outputs = df['Plugin Output'].unique()\n",
    "\n",
    "            for plugin_output in unique_outputs:\n",
    "                filtered_rows = df[df['Plugin Output'] == plugin_output]\n",
    "\n",
    "                name = filtered_rows['Name'].iloc[0]\n",
    "                solution = filtered_rows['Solution'].iloc[0]\n",
    "                risk = filtered_rows['Risk'].iloc[0]\n",
    "                see_also = filtered_rows['See Also'].iloc[0]\n",
    "                cve = \", \".join(filtered_rows['CVE'].dropna().unique())\n",
    "                description = filtered_rows['Description'].iloc[0]\n",
    "\n",
    "                hosts = []\n",
    "                for _, row in filtered_rows.iterrows():\n",
    "                    \n",
    "                    host = row['Host']\n",
    "                    port = row['Port']\n",
    "                    \n",
    "                    # print(row)\n",
    "                    # print(f\"Processing dataframe: {df_name}\")\n",
    "                    # print(f\"Host: {host}, Port: {port}\")\n",
    "                    ### For debugging only\n",
    "\n",
    "                    if port == 0:\n",
    "                        hosts.append(host)  # Only include the Host if Port is 0\n",
    "                    else:\n",
    "                        hosts.append(f\"{host}/{port}\")  # Include both Host and Port if Port is not 0\n",
    "\n",
    "                hosts_str = \", \".join(hosts)\n",
    "\n",
    "                results.append({\n",
    "                    'Name': name,\n",
    "                    'Plugin Output': plugin_output,\n",
    "                    'Solution': solution,\n",
    "                    'Risk': risk,\n",
    "                    'See Also': see_also,\n",
    "                    'CVE': cve,\n",
    "                    'Description': description,\n",
    "                    'Hosts': hosts_str\n",
    "                })\n",
    "        else:\n",
    "            print(f\"'{df_name}' is missing required columns, skipping...\")\n",
    "\n",
    "    if results:\n",
    "        results_df = pd.DataFrame(results)\n",
    "        results_df = results_df.drop_duplicates(subset=['Plugin Output', 'Solution', 'Risk', 'See Also', 'CVE', 'Description'])\n",
    "\n",
    "        # for _, result in results_df.iterrows():\n",
    "        #     print(f\"Name: {result['Name']}\")\n",
    "        #     print(f\"Plugin Output: {result['Plugin Output']}\")\n",
    "        #     print(f\"Solution: {result['Solution']}\")\n",
    "        #     print(f\"Risk: {result['Risk']}\")\n",
    "        #     print(f\"See Also: {result['See Also']}\")\n",
    "        #     print(f\"CVE: {result['CVE']}\")\n",
    "        #     print(f\"Description: {result['Description']}\")\n",
    "        #     print(f\"Hosts: {result['Hosts']}\")\n",
    "        #     print(\"-\" * 50)\n",
    "\n",
    "        results_df.to_excel(output_file, index=False)\n",
    "        print(f\"\\nResults saved to '{output_file}'\")\n",
    "    else:\n",
    "        print(\"No results to save.\")\n",
    "        \n",
    "process_dataframes(dataframes, 'output_results_unique.xlsx')"
   ]
  },
  {
   "cell_type": "code",
   "execution_count": 15,
   "metadata": {},
   "outputs": [
    {
     "name": "stdout",
     "output_type": "stream",
     "text": [
      "Rows before saving to Excel: 519\n",
      "Rows after saving to Excel: 519\n",
      "Sorted results saved to 'Output\\sorted_results.xlsx'\n"
     ]
    }
   ],
   "source": [
    "def process_and_sort_excel(input_file, output_file):\n",
    "\n",
    "    output_folder = ensure_output_folder()\n",
    "    input_file = os.path.join(output_folder, input_file)\n",
    "    output_file = os.path.join(output_folder, output_file)\n",
    "    \n",
    "    try:\n",
    "        df = pd.read_excel(input_file)\n",
    "        \n",
    "        if 'Name' not in df.columns or 'Hosts' not in df.columns:\n",
    "            print(f\"'{input_file}' does not have the required columns, unable to process.\")\n",
    "            return\n",
    "        \n",
    "        df['Hosts'] = df['Hosts'].apply(lambda x: ', '.join(sorted(set(x.split(', ')))))\n",
    "\n",
    "        sorted_df = df.sort_values(by='Name')\n",
    "        \n",
    "        print(f\"Rows before saving to Excel: {len(sorted_df)}\")\n",
    "        \n",
    "        sorted_df.to_excel(output_file, index=False)\n",
    "        \n",
    "        print(f\"Rows after saving to Excel: {len(sorted_df)}\")\n",
    "        print(f\"Sorted results saved to '{output_file}'\")\n",
    "\n",
    "    except Exception as e:\n",
    "        print(f\"Error processing the file: {e}\")\n",
    "\n",
    "process_and_sort_excel('output_results_unique.xlsx', 'sorted_results.xlsx')"
   ]
  },
  {
   "cell_type": "code",
   "execution_count": 16,
   "metadata": {},
   "outputs": [
    {
     "name": "stdout",
     "output_type": "stream",
     "text": [
      "Formatted results saved to 'Output\\formatted_output.txt'\n"
     ]
    }
   ],
   "source": [
    "def format_excel_data(input_file, output_file):\n",
    "\n",
    "    output_folder = ensure_output_folder()\n",
    "    input_file = os.path.join(output_folder, input_file)\n",
    "    output_file = os.path.join(output_folder, output_file)\n",
    "    \n",
    "    try:\n",
    "        df = pd.read_excel(input_file)\n",
    "\n",
    "        required_columns = ['Name', 'Plugin Output', 'Solution', 'Hosts', 'CVE', 'Description']\n",
    "        if not all(col in df.columns for col in required_columns):\n",
    "            print(f\"'{input_file}' is missing one or more required columns.\")\n",
    "            return\n",
    "\n",
    "        grouped = df.groupby('Solution')\n",
    "\n",
    "        with open(output_file, 'w') as f:\n",
    "            for solution, group in grouped:\n",
    "                names = ', '.join(sorted(group['Name'].unique()))\n",
    "                cves = ', '.join(sorted(set(group['CVE'].dropna())))\n",
    "                descriptions = '\\n'.join(sorted(set(group['Description'])))\n",
    "                hosts = ', '.join(sorted(set(host for host_list in group['Hosts'] for host in host_list.split(', '))))\n",
    "                \n",
    "                f.write(f\"Name: {names}\\n\")\n",
    "                f.write(f\"Plugin Output: -\\n\")\n",
    "                f.write(f\"Solution: {solution}\\n\")\n",
    "                f.write(f\"CVE: {cves}\\n\")\n",
    "                f.write(f\"Description:\\n{descriptions}\\n\")\n",
    "                f.write(f\"Affected Hosts: {hosts}\\n\\n\")\n",
    "                f.write(\"=\" * 20 + \"\\n\\n\")\n",
    "\n",
    "        print(f\"Formatted results saved to '{output_file}'\")\n",
    "\n",
    "    except Exception as e:\n",
    "        print(f\"Error processing the file: {e}\")\n",
    "\n",
    "format_excel_data('sorted_results.xlsx', 'formatted_output.txt')"
   ]
  }
 ],
 "metadata": {
  "kernelspec": {
   "display_name": "Python 3",
   "language": "python",
   "name": "python3"
  },
  "language_info": {
   "codemirror_mode": {
    "name": "ipython",
    "version": 3
   },
   "file_extension": ".py",
   "mimetype": "text/x-python",
   "name": "python",
   "nbconvert_exporter": "python",
   "pygments_lexer": "ipython3",
   "version": "3.13.0"
  }
 },
 "nbformat": 4,
 "nbformat_minor": 2
}
